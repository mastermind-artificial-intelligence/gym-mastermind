{
  "nbformat": 4,
  "nbformat_minor": 0,
  "metadata": {
    "colab": {
      "name": "reinforcement-learning-deep-q-network.ipynb",
      "provenance": [],
      "collapsed_sections": []
    },
    "kernelspec": {
      "name": "python3",
      "display_name": "Python 3"
    },
    "language_info": {
      "name": "python"
    }
  },
  "cells": [
    {
      "cell_type": "markdown",
      "metadata": {
        "id": "sVbV870oBfe7"
      },
      "source": [
        "# 1. Clone the gym"
      ]
    },
    {
      "cell_type": "code",
      "metadata": {
        "colab": {
          "base_uri": "https://localhost:8080/"
        },
        "id": "ANukJf9AET7-",
        "outputId": "9b3714da-3175-42dd-976e-f3029995657f"
      },
      "source": [
        "!git clone https://github.com/mastermind-artificial-intelligence/gym-mastermind.git"
      ],
      "execution_count": 1,
      "outputs": [
        {
          "output_type": "stream",
          "text": [
            "Cloning into 'gym-mastermind'...\n",
            "remote: Enumerating objects: 10, done.\u001b[K\n",
            "remote: Total 10 (delta 0), reused 0 (delta 0), pack-reused 10\u001b[K\n",
            "Unpacking objects: 100% (10/10), done.\n"
          ],
          "name": "stdout"
        }
      ]
    },
    {
      "cell_type": "code",
      "metadata": {
        "colab": {
          "base_uri": "https://localhost:8080/"
        },
        "id": "1u0jaFq-EdEZ",
        "outputId": "bf58a4b5-2fa5-4576-b8d4-f05941f91853"
      },
      "source": [
        "cd gym-mastermind"
      ],
      "execution_count": 2,
      "outputs": [
        {
          "output_type": "stream",
          "text": [
            "/content/gym-mastermind\n"
          ],
          "name": "stdout"
        }
      ]
    },
    {
      "cell_type": "code",
      "metadata": {
        "colab": {
          "base_uri": "https://localhost:8080/"
        },
        "id": "pchPnIgKEdBT",
        "outputId": "b8347346-c702-4969-89d0-13ac9177b0a6"
      },
      "source": [
        "pip install -e ."
      ],
      "execution_count": 3,
      "outputs": [
        {
          "output_type": "stream",
          "text": [
            "Obtaining file:///content/gym-mastermind\n",
            "Requirement already satisfied: gym in /usr/local/lib/python3.7/dist-packages (from gym-mastermind==0.0.1) (0.17.3)\n",
            "Requirement already satisfied: numpy>=1.10.4 in /usr/local/lib/python3.7/dist-packages (from gym->gym-mastermind==0.0.1) (1.19.5)\n",
            "Requirement already satisfied: pyglet<=1.5.0,>=1.4.0 in /usr/local/lib/python3.7/dist-packages (from gym->gym-mastermind==0.0.1) (1.5.0)\n",
            "Requirement already satisfied: scipy in /usr/local/lib/python3.7/dist-packages (from gym->gym-mastermind==0.0.1) (1.4.1)\n",
            "Requirement already satisfied: cloudpickle<1.7.0,>=1.2.0 in /usr/local/lib/python3.7/dist-packages (from gym->gym-mastermind==0.0.1) (1.3.0)\n",
            "Requirement already satisfied: future in /usr/local/lib/python3.7/dist-packages (from pyglet<=1.5.0,>=1.4.0->gym->gym-mastermind==0.0.1) (0.16.0)\n",
            "Installing collected packages: gym-mastermind\n",
            "  Running setup.py develop for gym-mastermind\n",
            "Successfully installed gym-mastermind-0.0.1\n"
          ],
          "name": "stdout"
        }
      ]
    },
    {
      "cell_type": "markdown",
      "metadata": {
        "id": "avEkYS3xBmie"
      },
      "source": [
        "# 2. Init environment and explore env"
      ]
    },
    {
      "cell_type": "code",
      "metadata": {
        "colab": {
          "base_uri": "https://localhost:8080/"
        },
        "id": "OIb97kLQEc-l",
        "outputId": "23b398f8-a156-498b-c778-fc3a10f3b911"
      },
      "source": [
        "import logging\n",
        "logging.basicConfig(level=logging.DEBUG)\n",
        "\n",
        "import gym_mastermind\n",
        "import gym\n",
        "env = gym.make('Mastermind-v0')"
      ],
      "execution_count": 4,
      "outputs": [
        {
          "output_type": "stream",
          "text": [
            "DEBUG:gym_mastermind.envs.mastermind_env:target=(3, 5, 4, 3)\n"
          ],
          "name": "stderr"
        }
      ]
    },
    {
      "cell_type": "code",
      "metadata": {
        "colab": {
          "base_uri": "https://localhost:8080/"
        },
        "id": "9dGhNl-fHfxp",
        "outputId": "938f7503-9b56-44bc-d201-1f5435ab09cb"
      },
      "source": [
        "# visualize action space\n",
        "a = env.action_space\n",
        "print(f'Action space: {a}') # Tuple(Discrete(6), Discrete(6), Discrete(6), Discrete(6))\n",
        "print(f'Number of possible options per slot: {a[0].n}') # 6\n",
        "# get a random sample which is an action\n",
        "print(f'Random available action: {env.action_space.sample()}')"
      ],
      "execution_count": 5,
      "outputs": [
        {
          "output_type": "stream",
          "text": [
            "Action space: Tuple(Discrete(6), Discrete(6), Discrete(6), Discrete(6))\n",
            "Number of possible options per slot: 6\n",
            "Random available action: (1, 2, 5, 5)\n"
          ],
          "name": "stdout"
        }
      ]
    },
    {
      "cell_type": "code",
      "metadata": {
        "colab": {
          "base_uri": "https://localhost:8080/"
        },
        "id": "Cf9nJVIhS4yD",
        "outputId": "42f8feb9-7a19-41ac-b08a-68d4b373a994"
      },
      "source": [
        "# visualize state space\n",
        "states = env.observation_space\n",
        "print(f'State space: {states}') # Tuple(Discrete(3), Discrete(3), Discrete(3), Discrete(3))"
      ],
      "execution_count": 6,
      "outputs": [
        {
          "output_type": "stream",
          "text": [
            "State space: Tuple(Discrete(3), Discrete(3), Discrete(3), Discrete(3))\n"
          ],
          "name": "stdout"
        }
      ]
    },
    {
      "cell_type": "code",
      "metadata": {
        "colab": {
          "base_uri": "https://localhost:8080/"
        },
        "id": "94uuZFRMGmXh",
        "outputId": "50c1c03d-5081-4bb6-e606-a80ce845e619"
      },
      "source": [
        "# Random attempts till either the objective is achieved or the number of moves expires\n",
        "s = env.reset()\n",
        "done = False\n",
        "while not done:\n",
        "    action = env.action_space.sample()\n",
        "    s, r, done, _ = env.step(action)\n",
        "    print(action, s, r)\n",
        "    # may want to change the state to \"no pin\", \"1 pin\" \"2 pin\""
      ],
      "execution_count": 7,
      "outputs": [
        {
          "output_type": "stream",
          "text": [
            "DEBUG:gym_mastermind.envs.mastermind_env:target=(3, 0, 0, 4)\n"
          ],
          "name": "stderr"
        },
        {
          "output_type": "stream",
          "text": [
            "(0, 2, 0, 5) (0, 0, 1, 2) 0\n",
            "(4, 1, 5, 5) (0, 0, 0, 1) 0\n",
            "(4, 2, 2, 5) (0, 0, 0, 1) 0\n",
            "(2, 2, 1, 2) (0, 0, 0, 0) 0\n",
            "(4, 4, 5, 0) (0, 0, 1, 1) 0\n",
            "(4, 2, 0, 0) (0, 1, 1, 2) 0\n",
            "(1, 2, 5, 1) (0, 0, 0, 0) 0\n",
            "(4, 4, 4, 1) (0, 0, 0, 1) 0\n",
            "(5, 5, 4, 0) (0, 0, 1, 1) 0\n",
            "(3, 0, 4, 1) (0, 1, 2, 2) 0\n",
            "(0, 3, 2, 4) (0, 1, 1, 2) 0\n",
            "(5, 3, 3, 1) (0, 0, 0, 1) 0\n"
          ],
          "name": "stdout"
        }
      ]
    }
  ]
}